{
 "cells": [
  {
   "cell_type": "code",
   "execution_count": 2,
   "metadata": {
    "collapsed": false
   },
   "outputs": [
    {
     "name": "stdout",
     "output_type": "stream",
     "text": [
      "Populating the interactive namespace from numpy and matplotlib\n"
     ]
    }
   ],
   "source": [
    "%pylab inline\n",
    "import pandas as pd\n",
    "from functions import load_data\n",
    "from constants import *\n",
    "import pickle"
   ]
  },
  {
   "cell_type": "code",
   "execution_count": 3,
   "metadata": {
    "collapsed": false
   },
   "outputs": [
    {
     "name": "stderr",
     "output_type": "stream",
     "text": [
      "2015-07-29 16:03:10,410 - INFO - Loading data for days:['20120924', '20120925', '20120926', '20120927', '20120928', '20121001', '20121002', '20121003', '20121004', '20121005', '20121008', '20121009', '20121010', '20121011', '20121012', '20121015', '20121016', '20121017', '20121018', '20121019']\n"
     ]
    }
   ],
   "source": [
    "total_df = load_data(ALL_DAYS[0:20], ignore_auctions = True, correct_zero_volumes = True, num_minutes_interval=1)"
   ]
  },
  {
   "cell_type": "code",
   "execution_count": 4,
   "metadata": {
    "collapsed": false
   },
   "outputs": [],
   "source": [
    "open_prices = total_df[total_df.Time == '2015-07-29 09:30:00']\n",
    "close_prices = total_df[total_df.Time == '2015-07-29 15:59:00']"
   ]
  },
  {
   "cell_type": "code",
   "execution_count": 5,
   "metadata": {
    "collapsed": false
   },
   "outputs": [
    {
     "data": {
      "image/png": "[encoded data removed]",
      "text/plain": [
       "<matplotlib.figure.Figure at 0x10647c5d0>"
      ]
     },
     "metadata": {},
     "output_type": "display_data"
    }
   ],
   "source": [
    "daily_sigma = \\\n",
    "    (((open_prices.reset_index().Price - close_prices.reset_index().Price)/open_prices.reset_index().Price)*10000).hist()"
   ]
  },
  {
   "cell_type": "code",
   "execution_count": 9,
   "metadata": {
    "collapsed": false
   },
   "outputs": [
    {
     "name": "stdout",
     "output_type": "stream",
     "text": [
      "0.0106115187883\n"
     ]
    }
   ],
   "source": [
    "daily_sigma = ((open_prices.reset_index().Price - close_prices.reset_index().Price)/open_prices.reset_index().Price).std()\n",
    "print daily_sigma * "
   ]
  },
  {
   "cell_type": "markdown",
   "metadata": {},
   "source": [
    "# Define and save $\\alpha_t$"
   ]
  },
  {
   "cell_type": "code",
   "execution_count": null,
   "metadata": {
    "collapsed": false
   },
   "outputs": [],
   "source": [
    "day_volumes = total_df.groupby(['Symbol', 'Day']).Volume.sum()\n",
    "total_df = pd.merge(total_df, day_volumes.reset_index(), how='left', on=['Symbol', 'Day'], suffixes = ('', '_total'))\n",
    "total_df['fractional_volume'] = total_df.Volume / total_df.Volume_total\n",
    "mean_frac_vol = total_df.groupby(['Time']).fractional_volume.mean()\n",
    "alpha_t = 1./mean_frac_vol\n",
    "alpha_t = 390*alpha_t/alpha_t.sum())\n",
    "\n",
    "with open(SAVEFOLDER+'alpha_t.pickle', 'w') as f:\n",
    "    pickle.dump(alpha_t, f)"
   ]
  }
 ],
 "metadata": {
  "kernelspec": {
   "display_name": "Python 2",
   "language": "python",
   "name": "python2"
  },
  "language_info": {
   "codemirror_mode": {
    "name": "ipython",
    "version": 2
   },
   "file_extension": ".py",
   "mimetype": "text/x-python",
   "name": "python",
   "nbconvert_exporter": "python",
   "pygments_lexer": "ipython2",
   "version": "2.7.10"
  }
 },
 "nbformat": 4,
 "nbformat_minor": 0
}
