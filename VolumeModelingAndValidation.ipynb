{
 "metadata": {
  "name": "",
  "signature": "sha256:24d0a3099feb94451cf3aa4db641fa469086cb91b6f48010b9596a83ca468ee8"
 },
 "nbformat": 3,
 "nbformat_minor": 0,
 "worksheets": [
  {
   "cells": [
    {
     "cell_type": "code",
     "collapsed": false,
     "input": [
      "%pylab inline\n",
      "import pandas as pd\n",
      "import cvxpy as cp\n",
      "import scipy as sp\n",
      "import numpy as np\n",
      "\n",
      "from constants import *\n",
      "from functions import load_data\n",
      "from volume_model import volumeModelEstimator\n",
      "%run volume_model.py"
     ],
     "language": "python",
     "metadata": {},
     "outputs": [
      {
       "output_type": "stream",
       "stream": "stdout",
       "text": [
        "Populating the interactive namespace from numpy and matplotlib\n"
       ]
      }
     ],
     "prompt_number": 22
    },
    {
     "cell_type": "code",
     "collapsed": false,
     "input": [
      "days = ALL_DAYS[0:30]\n",
      "total_df = load_data(days, ignore_auctions = True, correct_zero_volumes = True, num_minutes_interval=1)"
     ],
     "language": "python",
     "metadata": {},
     "outputs": [
      {
       "output_type": "stream",
       "stream": "stdout",
       "text": [
        "Loading data for days: ['20120924', '20120925', '20120926', '20120927', '20120928', '20121001', '20121002', '20121003', '20121004', '20121005', '20121008', '20121009', '20121010', '20121011', '20121012', '20121015', '20121016', '20121017', '20121018', '20121019', '20121022', '20121023', '20121024', '20121025', '20121026', '20121031', '20121101', '20121102', '20121105', '20121106']\n"
       ]
      }
     ],
     "prompt_number": 4
    },
    {
     "cell_type": "heading",
     "level": 4,
     "metadata": {},
     "source": [
      "Make training and validation sets"
     ]
    },
    {
     "cell_type": "code",
     "collapsed": false,
     "input": [
      "np.random.seed(0)\n",
      "total_df_stacked = total_df.set_index(['Symbol', 'Day', 'Time']).unstack()\n",
      "msk = np.random.rand(len(total_df_stacked)) < 0.66\n",
      "training_set = total_df_stacked[msk].stack().reset_index()\n",
      "validation_set = total_df_stacked[~msk].stack().reset_index()"
     ],
     "language": "python",
     "metadata": {},
     "outputs": [],
     "prompt_number": 5
    },
    {
     "cell_type": "heading",
     "level": 4,
     "metadata": {},
     "source": [
      "Compute the per-symbol B's"
     ]
    },
    {
     "cell_type": "code",
     "collapsed": false,
     "input": [
      "estimator = volumeModelEstimator(training_set)\n",
      "print estimator.computeB()"
     ],
     "language": "python",
     "metadata": {},
     "outputs": [
      {
       "output_type": "stream",
       "stream": "stdout",
       "text": [
        "Symbol\n",
        "AA         9.988756\n",
        "AXP        9.004151\n",
        "BA         8.854219\n",
        "BAC       12.224973\n",
        "CAT        9.482399\n",
        "CSCO      10.808046\n",
        "CVX        9.179650\n",
        "DD         9.188594\n",
        "DIS        9.337394\n",
        "GE        11.015757\n",
        "HD         9.532272\n",
        "HPQ       10.540983\n",
        "IBM        8.723274\n",
        "INTC      11.192465\n",
        "JNJ        9.772732\n",
        "JPM       10.591623\n",
        "KO         9.929613\n",
        "MCD        9.249827\n",
        "MMM        8.522700\n",
        "MRK        9.616714\n",
        "MSFT      11.164165\n",
        "PFE       10.561091\n",
        "PG         9.413918\n",
        "T         10.514912\n",
        "TRV        8.165300\n",
        "UNH        8.985373\n",
        "UTX        8.710564\n",
        "VZ         9.728834\n",
        "WMT        9.192497\n",
        "XOM        9.809744\n",
        "Name: LogVolume, dtype: float64\n"
       ]
      }
     ],
     "prompt_number": 23
    },
    {
     "cell_type": "heading",
     "level": 5,
     "metadata": {},
     "source": [
      "Update also validation set"
     ]
    },
    {
     "cell_type": "code",
     "collapsed": false,
     "input": [
      "validation_set = estimator.removeBComponent(validation_set)"
     ],
     "language": "python",
     "metadata": {},
     "outputs": [],
     "prompt_number": 24
    },
    {
     "cell_type": "heading",
     "level": 3,
     "metadata": {},
     "source": [
      "Regularization validation for $I_t$"
     ]
    },
    {
     "cell_type": "code",
     "collapsed": false,
     "input": [
      "train_matrix = estimator.training_set.set_index(['Symbol', 'Day', 'Time']).LogVolumeDeMeaned.unstack().T.as_matrix()\n",
      "validation_matrix = validation_set.set_index(['Symbol', 'Day', 'Time']).LogVolumeDeMeaned.unstack().T.as_matrix()\n",
      "times_index = estimator.training_set.set_index(['Symbol', 'Day', 'Time']).LogVolumeDeMeaned.unstack().T.index\n",
      "I_t_rough = train_matrix.mean(1)\n",
      "rough_cost = np.sum((validation_matrix.T- I_t_rough)**2)"
     ],
     "language": "python",
     "metadata": {},
     "outputs": [],
     "prompt_number": 14
    },
    {
     "cell_type": "code",
     "collapsed": false,
     "input": [
      "def cross_validate(parameter_list, function):\n",
      "    test_costs = []\n",
      "    for parm in parameter_list:\n",
      "        test_costs.append(function(parm))\n",
      "    semilogx(parameter_list, test_costs)\n",
      "    best_parm = parameter_list[np.argmin(test_costs)]\n",
      "    print \"Best parameter is %f\" % (parameter_list[np.argmin(test_costs)])\n",
      "    return best_parm, np.min(test_costs)\n",
      "\n",
      "def l1_trend_smoothing(profile, vlambda,  smooth_start_end = True):\n",
      "    import cvxopt as cvxopt\n",
      "    n = profile.size\n",
      "    # Form second difference matrix.\n",
      "    e = np.mat(np.ones((1, n)))\n",
      "    D = sp.sparse.spdiags(np.vstack((e, -2*e, e)), range(3), n-2, n)\n",
      "    # Convert D to cvxopt sparse format, due to bug in scipy which prevents\n",
      "    # overloading neccessary for CVXPY. Use COOrdinate format as intermediate.\n",
      "    D_coo = D.tocoo()\n",
      "    D = cvxopt.spmatrix(D_coo.data, D_coo.row.tolist(), D_coo.col.tolist())\n",
      "    # don't regularize first and last\n",
      "    if not smooth_start_end:\n",
      "        D = D[1:-1,:]\n",
      "    # Set regularization parameter.\n",
      "    #vlambda = .08\n",
      "    # Solve l1 trend filtering problem.\n",
      "    x = cp.Variable(n)\n",
      "    obj = cp.Minimize(0.5 * cp.norm2(profile - x)\n",
      "                       + vlambda * cp.norm(D*x, 1) )\n",
      "    prob = cp.Problem(obj)\n",
      "    # ECOS and SCS solvers fail to converge before\n",
      "    # the iteration limit. Use CVXOPT instead.\n",
      "    prob.solve()\n",
      "    return x.value.A1"
     ],
     "language": "python",
     "metadata": {},
     "outputs": [],
     "prompt_number": 16
    },
    {
     "cell_type": "code",
     "collapsed": false,
     "input": [
      "vlambdas = np.logspace(-3.0, 1., num=40)\n",
      "def test_cost(vlambda):\n",
      "    I_t_smoothed = l1_trend_smoothing(I_t_rough, vlambda,  smooth_start_end = False)\n",
      "    return np.sum((validation_matrix.T- I_t_smoothed)**2)\n",
      "parm, testval = cross_validate(vlambdas, test_cost)\n",
      "#figure()\n",
      "#plot(l1_trend_smoothing(I_t_rough, parm,  smooth_start_end = False))\n",
      "print \"our cost: \", testval\n",
      "print \"unregularized cost:\", rough_cost"
     ],
     "language": "python",
     "metadata": {},
     "outputs": [
      {
       "output_type": "stream",
       "stream": "stdout",
       "text": [
        "Best parameter is 0.001266\n",
        "our cost:  89162.8626116\n",
        "unregularized cost: 89162.8626116\n"
       ]
      },
      {
       "metadata": {},
       "output_type": "display_data",
       "png": "[encoded data removed]",
       "text": [
        "<matplotlib.figure.Figure at 0x10acfbd90>"
       ]
      }
     ],
     "prompt_number": 21
    },
    {
     "cell_type": "code",
     "collapsed": false,
     "input": [
      "plt.figure(figsize=(15,6))\n",
      "plot(times_index, I_t_rough)\n",
      "savefig(GRAPHICSFOLDER + \"mu_t_unregularized.pdf\")"
     ],
     "language": "python",
     "metadata": {},
     "outputs": [
      {
       "metadata": {},
       "output_type": "display_data",
       "png": "[encoded data removed]",
       "text": [
        "<matplotlib.figure.Figure at 0x10a56df90>"
       ]
      }
     ],
     "prompt_number": 19
    },
    {
     "cell_type": "heading",
     "level": 1,
     "metadata": {},
     "source": [
      "Don't regularize I_t - cross validation has spoken"
     ]
    },
    {
     "cell_type": "code",
     "collapsed": false,
     "input": [
      "print estimator.computeI()\n",
      "validation_set = estimator.removeIComponent(validation_set)"
     ],
     "language": "python",
     "metadata": {},
     "outputs": [
      {
       "output_type": "stream",
       "stream": "stdout",
       "text": [
        "Time\n",
        "2015-03-11 09:30:00    0.759368\n",
        "2015-03-11 09:31:00    0.751444\n",
        "2015-03-11 09:32:00    0.630861\n",
        "2015-03-11 09:33:00    0.549180\n",
        "2015-03-11 09:34:00    0.586255\n",
        "2015-03-11 09:35:00    0.850003\n",
        "2015-03-11 09:36:00    0.739984\n",
        "2015-03-11 09:37:00    0.606811\n",
        "2015-03-11 09:38:00    0.575731\n",
        "2015-03-11 09:39:00    0.561493\n",
        "2015-03-11 09:40:00    0.693443\n",
        "2015-03-11 09:41:00    0.683057\n",
        "2015-03-11 09:42:00    0.614884\n",
        "2015-03-11 09:43:00    0.484878\n",
        "2015-03-11 09:44:00    0.559361\n",
        "...\n",
        "2015-03-11 15:45:00    1.297655\n",
        "2015-03-11 15:46:00    0.858465\n",
        "2015-03-11 15:47:00    0.847336\n",
        "2015-03-11 15:48:00    0.757783\n",
        "2015-03-11 15:49:00    0.903002\n",
        "2015-03-11 15:50:00    1.154312\n",
        "2015-03-11 15:51:00    1.053737\n",
        "2015-03-11 15:52:00    1.033725\n",
        "2015-03-11 15:53:00    1.005799\n",
        "2015-03-11 15:54:00    1.169427\n",
        "2015-03-11 15:55:00    1.615931\n",
        "2015-03-11 15:56:00    1.369396\n",
        "2015-03-11 15:57:00    1.541202\n",
        "2015-03-11 15:58:00    1.710538\n",
        "2015-03-11 15:59:00    2.728224\n",
        "Name: LogVolumeDeMeaned, Length: 390\n"
       ]
      }
     ],
     "prompt_number": 26
    },
    {
     "cell_type": "heading",
     "level": 2,
     "metadata": {},
     "source": [
      "Covariance matrix estimation"
     ]
    },
    {
     "cell_type": "code",
     "collapsed": false,
     "input": [
      "# Build covariance matrix of disturbances\n",
      "train_matrix = estimator.training_set.set_index(['Symbol', 'Day', 'Time']).Disturbances.unstack().T.as_matrix()\n",
      "validation_matrix = validation_set.set_index(['Symbol', 'Day', 'Time']).Disturbances.unstack().T.as_matrix()\n",
      "\n",
      "# for reference - log likelihoood of the unregularized matrix\n",
      "result = np.cov(train_matrix)\n",
      "inverse_covariance = np.linalg.inv(result)\n",
      "log_lik = -M*T*log(2*np.pi)/2.\n",
      "log_lik -= sum(np.log(np.linalg.eigh(result)[0])) * M/2.\n",
      "log_lik -= sum(np.diagonal(np.matrix(validation_matrix).T * np.matrix(inverse_covariance) * np.matrix(validation_matrix)))/2.\n",
      "print log_lik/M"
     ],
     "language": "python",
     "metadata": {},
     "outputs": [
      {
       "output_type": "stream",
       "stream": "stdout",
       "text": [
        "-781.01342022\n"
       ]
      }
     ],
     "prompt_number": 36
    },
    {
     "cell_type": "code",
     "collapsed": false,
     "input": [
      "max_num_factors = 35\n",
      "max_half_bandwidth = 15\n",
      "log_lik_matrix = np.zeros((max_num_factors, max_half_bandwidth))\n",
      "\n",
      "#N = train_matrix.shape[1]\n",
      "M = validation_matrix.shape[1]\n",
      "T = validation_matrix.shape[0]\n",
      "\n",
      "for i in range(1, max_num_factors):\n",
      "    print i,\n",
      "    for j in range(1,max_half_bandwidth):\n",
      "        result = estimator.computeSigma(i, j)\n",
      "           \n",
      "        # compute log lik\n",
      "        inverse_covariance = np.linalg.inv(result)\n",
      "        log_lik = -M*T*log(2*np.pi)/2.\n",
      "        log_lik -= sum(np.log(np.linalg.eigh(result)[0])) * M/2.\n",
      "        log_lik -= sum(np.diagonal(np.matrix(validation_matrix).T * np.matrix(inverse_covariance) \n",
      "                                   * np.matrix(validation_matrix)))/2.\n",
      "        log_lik_matrix[i,j] = log_lik"
     ],
     "language": "python",
     "metadata": {},
     "outputs": [
      {
       "output_type": "stream",
       "stream": "stdout",
       "text": [
        "1 "
       ]
      },
      {
       "output_type": "stream",
       "stream": "stdout",
       "text": [
        "2 "
       ]
      },
      {
       "output_type": "stream",
       "stream": "stdout",
       "text": [
        "3 "
       ]
      },
      {
       "output_type": "stream",
       "stream": "stdout",
       "text": [
        "4 "
       ]
      },
      {
       "output_type": "stream",
       "stream": "stdout",
       "text": [
        "5 "
       ]
      },
      {
       "output_type": "stream",
       "stream": "stdout",
       "text": [
        "6 "
       ]
      },
      {
       "output_type": "stream",
       "stream": "stdout",
       "text": [
        "7 "
       ]
      },
      {
       "output_type": "stream",
       "stream": "stdout",
       "text": [
        "8 "
       ]
      },
      {
       "output_type": "stream",
       "stream": "stdout",
       "text": [
        "9 "
       ]
      },
      {
       "output_type": "stream",
       "stream": "stdout",
       "text": [
        "10 "
       ]
      },
      {
       "output_type": "stream",
       "stream": "stdout",
       "text": [
        "11 "
       ]
      },
      {
       "output_type": "stream",
       "stream": "stdout",
       "text": [
        "12 "
       ]
      },
      {
       "output_type": "stream",
       "stream": "stdout",
       "text": [
        "13 "
       ]
      },
      {
       "output_type": "stream",
       "stream": "stdout",
       "text": [
        "14 "
       ]
      },
      {
       "output_type": "stream",
       "stream": "stdout",
       "text": [
        "15 "
       ]
      },
      {
       "output_type": "stream",
       "stream": "stdout",
       "text": [
        "16 "
       ]
      },
      {
       "output_type": "stream",
       "stream": "stdout",
       "text": [
        "17 "
       ]
      },
      {
       "output_type": "stream",
       "stream": "stdout",
       "text": [
        "18 "
       ]
      },
      {
       "output_type": "stream",
       "stream": "stdout",
       "text": [
        "19 "
       ]
      },
      {
       "output_type": "stream",
       "stream": "stdout",
       "text": [
        "20 "
       ]
      },
      {
       "output_type": "stream",
       "stream": "stdout",
       "text": [
        "21 "
       ]
      },
      {
       "output_type": "stream",
       "stream": "stdout",
       "text": [
        "22 "
       ]
      },
      {
       "output_type": "stream",
       "stream": "stdout",
       "text": [
        "23 "
       ]
      },
      {
       "output_type": "stream",
       "stream": "stdout",
       "text": [
        "24 "
       ]
      },
      {
       "output_type": "stream",
       "stream": "stdout",
       "text": [
        "25 "
       ]
      },
      {
       "output_type": "stream",
       "stream": "stdout",
       "text": [
        "26 "
       ]
      },
      {
       "output_type": "stream",
       "stream": "stdout",
       "text": [
        "27 "
       ]
      },
      {
       "output_type": "stream",
       "stream": "stdout",
       "text": [
        "28 "
       ]
      },
      {
       "output_type": "stream",
       "stream": "stdout",
       "text": [
        "29 "
       ]
      },
      {
       "output_type": "stream",
       "stream": "stdout",
       "text": [
        "30 "
       ]
      },
      {
       "output_type": "stream",
       "stream": "stdout",
       "text": [
        "31 "
       ]
      },
      {
       "output_type": "stream",
       "stream": "stdout",
       "text": [
        "32 "
       ]
      },
      {
       "output_type": "stream",
       "stream": "stdout",
       "text": [
        "33 "
       ]
      },
      {
       "output_type": "stream",
       "stream": "stdout",
       "text": [
        "34\n"
       ]
      }
     ],
     "prompt_number": 34
    },
    {
     "cell_type": "code",
     "collapsed": false,
     "input": [
      "figure(figsize=(10,6))\n",
      "imshow(log_lik_matrix[1:,1:]/M, aspect='auto', extent=[1,max_half_bandwidth,max_num_factors,1])\n",
      "title(\"Validation set (normalized) log-likelihood\")\n",
      "xlabel(\"half-bandwidth\")\n",
      "ylabel(\"number of singular values\")\n",
      "colorbar()\n",
      "i,j = np.unravel_index(log_lik_matrix[1:,1:].argmax(), log_lik_matrix[1:,1:].shape)\n",
      "print \"Optimal (rank, half-bandwidth) = (%d, %d)\" % (i+1, j+1)\n",
      "savefig(GRAPHICSFOLDER + \"cross_validation_sigma.pdf\")"
     ],
     "language": "python",
     "metadata": {},
     "outputs": [
      {
       "output_type": "stream",
       "stream": "stdout",
       "text": [
        "Optimal (rank, half-bandwidth) = (18, 3)\n"
       ]
      },
      {
       "metadata": {},
       "output_type": "display_data",
       "png": "[encoded data removed]",
       "text": [
        "<matplotlib.figure.Figure at 0x10b7eb2d0>"
       ]
      }
     ],
     "prompt_number": 35
    },
    {
     "cell_type": "heading",
     "level": 2,
     "metadata": {},
     "source": [
      "Old Stuff"
     ]
    },
    {
     "cell_type": "heading",
     "level": 4,
     "metadata": {},
     "source": [
      "Look at first SVs"
     ]
    },
    {
     "cell_type": "code",
     "collapsed": false,
     "input": [
      "empirical_covariance =  np.dot(train_matrix, train_matrix.T) / (train_matrix.shape[1] - 1)"
     ],
     "language": "python",
     "metadata": {},
     "outputs": []
    },
    {
     "cell_type": "code",
     "collapsed": false,
     "input": [
      "T = 390\n",
      "lambda_var = 10.\n",
      "import cvxpy as cvx\n",
      "u = cvx.Variable(T)\n",
      "A = cvx.Variable(T,T)\n",
      "objective = cvx.Minimize(cvx.norm(empirical_covariance - A - cvx.diag(u), 'fro') + lambda_var * cvx.normNuc(A))\n",
      "#prob = cvx.Problem(objective, [A >= 0])\n",
      "prob = cvx.Problem(objective)"
     ],
     "language": "python",
     "metadata": {},
     "outputs": []
    },
    {
     "cell_type": "code",
     "collapsed": false,
     "input": [
      "prob.solve(solver=cvx.SCS, verbose=True)"
     ],
     "language": "python",
     "metadata": {},
     "outputs": []
    },
    {
     "cell_type": "code",
     "collapsed": false,
     "input": [
      "np.sqrt(np.sum(np.array(empirical_covariance - A.value - np.diag(u.value))**2))"
     ],
     "language": "python",
     "metadata": {},
     "outputs": []
    },
    {
     "cell_type": "code",
     "collapsed": false,
     "input": [
      "U,s,V = np.linalg.svd(A.value)\n",
      "plot(s[:20])\n",
      "figure()\n",
      "plot(u.value)"
     ],
     "language": "python",
     "metadata": {},
     "outputs": []
    },
    {
     "cell_type": "heading",
     "level": 3,
     "metadata": {},
     "source": [
      "Even older"
     ]
    },
    {
     "cell_type": "code",
     "collapsed": false,
     "input": [
      "def l2_trend_smoothing(profile, vlambda,  smooth_start_end = True):\n",
      "    import cvxopt as cvxopt\n",
      "    n = profile.size\n",
      "    # Form second difference matrix.\n",
      "    e = np.mat(np.ones((1, n)))\n",
      "    D = sp.sparse.spdiags(np.vstack((e, -2*e, e)), range(3), n-2, n)\n",
      "    # Convert D to cvxopt sparse format, due to bug in scipy which prevents\n",
      "    # overloading neccessary for CVXPY. Use COOrdinate format as intermediate.\n",
      "    D_coo = D.tocoo()\n",
      "    D = cvxopt.spmatrix(D_coo.data, D_coo.row.tolist(), D_coo.col.tolist())\n",
      "    # don't regularize first and last\n",
      "    if not smooth_start_end:\n",
      "        D = D[1:-1,:]\n",
      "    # Set regularization parameter.\n",
      "    #vlambda = .08\n",
      "    # Solve l1 trend filtering problem.\n",
      "    x = cp.Variable(n)\n",
      "    obj = cp.Minimize(0.5 * cp.norm2(profile - x)\n",
      "                       + vlambda * cp.norm2(D*x) )\n",
      "    prob = cp.Problem(obj)\n",
      "    # ECOS and SCS solvers fail to converge before\n",
      "    # the iteration limit. Use CVXOPT instead.\n",
      "    prob.solve()\n",
      "    return x.value.A1\n",
      "\n",
      "\n",
      "\n",
      "def l2_jump_trend_smoothing(profile, trend_lambda, jump_rho, smooth_start_end = True):\n",
      "    import cvxopt as cvxopt\n",
      "    n = profile.size\n",
      "    # Form second difference matrix.\n",
      "    e = np.mat(np.ones((1, n)))\n",
      "    D = sp.sparse.spdiags(np.vstack((e, -2*e, e)), range(3), n-2, n)\n",
      "    # Convert D to cvxopt sparse format, due to bug in scipy which prevents\n",
      "    # overloading neccessary for CVXPY. Use COOrdinate format as intermediate.\n",
      "    D_coo = D.tocoo()\n",
      "    D = cvxopt.spmatrix(D_coo.data, D_coo.row.tolist(), D_coo.col.tolist())\n",
      "    # don't regularize first and last\n",
      "    if not smooth_start_end:\n",
      "        D = D[1:-1,:]\n",
      "    # Set regularization parameter.\n",
      "    #vlambda = .08\n",
      "    # Solve l1 trend filtering problem.\n",
      "    x = cp.Variable(n)\n",
      "    y = cp.Variable(n)\n",
      "    obj = cp.Minimize(0.5 * cp.norm2(profile - x - y)\n",
      "                       + trend_lambda * cp.norm2(D*x) + \\\n",
      "                       jump_rho * cp.norm1(y))\n",
      "    prob = cp.Problem(obj)\n",
      "    # ECOS and SCS solvers fail to converge before\n",
      "    # the iteration limit. Use CVXOPT instead.\n",
      "    prob.solve(solver=cp.ECOS)\n",
      "    return x.value.A1 + y.value.A1"
     ],
     "language": "python",
     "metadata": {},
     "outputs": []
    },
    {
     "cell_type": "code",
     "collapsed": false,
     "input": [
      "vlambdas = np.logspace(-1.0, 2, num=40)\n",
      "def test_cost(vlambda):\n",
      "    I_t_smoothed = l2_trend_smoothing(I_t_rough, vlambda,  smooth_start_end = False)\n",
      "    return np.sum((validation_matrix.T- I_t_smoothed)**2)\n",
      "parm, testval = cross_validate(vlambdas, test_cost)\n",
      "figure()\n",
      "plot(l2_trend_smoothing(I_t_rough, parm,  smooth_start_end = False))\n",
      "print \"our cost: \", testval\n",
      "print \"unregularized cost:\", rough_cost"
     ],
     "language": "python",
     "metadata": {},
     "outputs": []
    },
    {
     "cell_type": "code",
     "collapsed": false,
     "input": [
      "jump_rhos = .008 * np.arange(1,20,1)\n",
      "def test_cost(jump_rho):\n",
      "    I_t_smoothed = l2_jump_trend_smoothing(I_t_rough, trend_lambda=.49, jump_rho=jump_rho)\n",
      "    return np.sum((validation_matrix.T- I_t_smoothed)**2)\n",
      "parm, testval = cross_validate(jump_rhos, test_cost)\n",
      "figure()\n",
      "plot(l2_jump_trend_smoothing(I_t_rough, trend_lambda=.49, jump_rho=parm))"
     ],
     "language": "python",
     "metadata": {},
     "outputs": []
    },
    {
     "cell_type": "code",
     "collapsed": false,
     "input": [
      "trend_lambdas = np.logspace(-3.0, -1., num=30)\n",
      "def test_cost(trend_lambda):\n",
      "    I_t_smoothed = l2_jump_trend_smoothing(I_t_rough, trend_lambda=trend_lambda, jump_rho=100.016)\n",
      "    return np.sum((test_matrix.T- I_t_smoothed)**2)\n",
      "parm, testval = cross_validate(trend_lambdas, test_cost)\n",
      "figure()\n",
      "plot(l2_jump_trend_smoothing(I_t_rough, trend_lambda=parm, jump_rho=100.016))\n",
      "print testval, rough_cost"
     ],
     "language": "python",
     "metadata": {},
     "outputs": []
    },
    {
     "cell_type": "heading",
     "level": 2,
     "metadata": {},
     "source": [
      "Iterative SV regularized factor computation"
     ]
    },
    {
     "cell_type": "code",
     "collapsed": false,
     "input": [
      "def extract_singular_vector(matrix_of_disturbances):\n",
      "    U,S,V = np.linalg.svd(matrix_of_disturbances, full_matrices =0)\n",
      "    singular_vector = U[:,0]\n",
      "    loadings = np.dot(singular_vector.T, matrix_of_disturbances)\n",
      "    matrix_of_disturbances_remaining = matrix_of_disturbances - np.dot(matrix(singular_vector).T, matrix(loadings))\n",
      "    return singular_vector, loadings, matrix_of_disturbances_remaining\n",
      "\n",
      "def extract_singular_vector_smooth(matrix_of_disturbances, vlambda=.1):\n",
      "    U,S,V = np.linalg.svd(matrix_of_disturbances, full_matrices =0)\n",
      "    singular_vector = U[:,0]\n",
      "    regularized_singular_vector = l1_trend_smoothing(singular_vector, vlambda=vlambda, smooth_start_end = False)\n",
      "    #regularized_singular_vector = l2_jump_trend_smoothing(singular_vector, trend_lambda=1., jump_rho = .09)\n",
      "    loadings = np.dot(regularized_singular_vector.T, matrix_of_disturbances)\n",
      "    matrix_of_disturbances_remaining = matrix_of_disturbances - np.dot(matrix(regularized_singular_vector).T, matrix(loadings))\n",
      "    return regularized_singular_vector, loadings, matrix_of_disturbances_remaining\n",
      "\n",
      "def build_covariance_matrix_and_loglik(numfactor, vlambda_svs, vlambda_u, use_superdiagonal, train_matrix, test_matrix):\n",
      "    # initialize\n",
      "    singular_vectors = []\n",
      "    loadings_vectors = []\n",
      "    current_data_matrix = train_matrix\n",
      "\n",
      "    # extract smoothed SVs\n",
      "    for i in range(numfactor):\n",
      "        #print \"extracting %s singular vector\" %i\n",
      "        regularized_singular_vector, loadings, current_data_matrix = \\\n",
      "            extract_singular_vector_smooth(current_data_matrix, vlambda=vlambda_svs*i)\n",
      "        singular_vectors.append(regularized_singular_vector)\n",
      "        loadings_vectors.append(loadings)\n",
      "    unexplained_shocks = current_data_matrix\n",
      "\n",
      "    # extract diagonal of the unexplained shocks sample cov\n",
      "    cov = np.cov(unexplained_shocks)\n",
      "    diag = [cov[i,i] for i in range(390)]\n",
      "    diag_reg = l1_trend_smoothing(np.array(diag), vlambda=vlambda_u*0, smooth_start_end = False)\n",
      "    sigma_u_bar = np.diag(diag_reg)\n",
      "\n",
      "    for k in range(1, use_superdiagonal+1):\n",
      "        supradiag = [cov[i,i+k] for i in range(390-k)]\n",
      "        supradiag_reg = l1_trend_smoothing(np.array(supradiag), vlambda=vlambda_u*k, smooth_start_end = False)\n",
      "        for i in range(len(sigma_u_bar)-k):\n",
      "            sigma_u_bar[i, i+k] = supradiag_reg[i]\n",
      "            sigma_u_bar[i+k, i] = supradiag_reg[i]\n",
      "            \n",
      "    # and add the factors\n",
      "    F = np.vstack(singular_vectors)\n",
      "    loadings_data_matrix = np.vstack(loadings_vectors)\n",
      "    total_sigma = sigma_u_bar + np.dot(np.dot(F.T, np.cov(loadings_data_matrix)), F)\n",
      "\n",
      "    # compute test set log likelihood\n",
      "    inverse_covariance = np.linalg.inv(total_sigma)\n",
      "    log_lik = - log(np.linalg.det(total_sigma)) * test_matrix.shape[1]\n",
      "    log_lik -= sum(np.diagonal(np.matrix(test_matrix).T * np.matrix(inverse_covariance) * np.matrix(test_matrix)))\n",
      "    return total_sigma, log_lik"
     ],
     "language": "python",
     "metadata": {},
     "outputs": []
    },
    {
     "cell_type": "heading",
     "level": 3,
     "metadata": {},
     "source": [
      "Choose optimal number of factors - it seems 4"
     ]
    },
    {
     "cell_type": "code",
     "collapsed": false,
     "input": [
      "log_likelihoods = []\n",
      "factors = range(1,20)\n",
      "\n",
      "vlambda_svs = .003\n",
      "vlambda_u = 0.22\n",
      "use_superdiagonal = 15\n",
      "\n",
      "for numfactor in factors:\n",
      "    sigma_u, log_lik = build_covariance_matrix_and_loglik(numfactor, vlambda_svs, vlambda_u, \n",
      "                                                          use_superdiagonal, train_matrix, test_matrix)\n",
      "    log_likelihoods.append(log_lik)\n",
      "plot(factors, log_likelihoods)"
     ],
     "language": "python",
     "metadata": {},
     "outputs": []
    },
    {
     "cell_type": "heading",
     "level": 3,
     "metadata": {},
     "source": [
      "Choose optimal regularization of factors - 0.003 (none)"
     ]
    },
    {
     "cell_type": "code",
     "collapsed": false,
     "input": [
      "log_likelihoods = []\n",
      "numfactor = 4\n",
      "vlambda_svs_s = np.logspace(-3.0, -1.6, num=10)\n",
      "vlambda_u = 0.22\n",
      "use_superdiagonal = 15\n",
      "\n",
      "for vlambda_svs in vlambda_svs_s:\n",
      "    sigma_u, log_lik = build_covariance_matrix_and_loglik(numfactor, vlambda_svs, vlambda_u, \n",
      "                                                          use_superdiagonal, train_matrix, test_matrix)\n",
      "    log_likelihoods.append(log_lik)\n",
      "plot(vlambda_svs_s, log_likelihoods)\n",
      "print \"Best regularization parm: \", vlambda_svs_s[argmax(log_likelihoods)]"
     ],
     "language": "python",
     "metadata": {},
     "outputs": []
    },
    {
     "cell_type": "heading",
     "level": 3,
     "metadata": {},
     "source": [
      "Use superdiagonal? - Yes! , best number is 15!!"
     ]
    },
    {
     "cell_type": "code",
     "collapsed": false,
     "input": [
      "log_likelihoods = []\n",
      "numfactor = 4\n",
      "vlambda_svs_s = .0003\n",
      "vlambda_u = 0.22\n",
      "how_many_superdiagonals = [0,1,2,3,4,5,6,7,8,9,10,11,12,13,14, 15,16,17,18,19, 20, 25, 30]\n",
      "\n",
      "for use_superdiagonal in how_many_superdiagonals:\n",
      "    sigma_u, log_lik = build_covariance_matrix_and_loglik(numfactor, vlambda_svs, vlambda_u, \n",
      "                                                          use_superdiagonal, train_matrix, test_matrix)\n",
      "    log_likelihoods.append(log_lik)\n",
      "plot(how_many_superdiagonals, log_likelihoods)\n",
      "print \"Best number of diagonals: \", how_many_superdiagonals[argmax(log_likelihoods)]"
     ],
     "language": "python",
     "metadata": {},
     "outputs": []
    },
    {
     "cell_type": "heading",
     "level": 3,
     "metadata": {},
     "source": [
      "Regularize the $\\Sigma_u$ terms? - seems I could gain an epsilon but not worth the pain"
     ]
    },
    {
     "cell_type": "code",
     "collapsed": false,
     "input": [
      "log_likelihoods = []\n",
      "numfactor = 4\n",
      "vlambda_svs_s = .003\n",
      "vlambda_us = np.logspace(-3.0, 0, num=15)\n",
      "use_superdiagonal = 15\n",
      "\n",
      "for vlambda_u in vlambda_us:\n",
      "    sigma_u, log_lik = build_covariance_matrix_and_loglik(numfactor, vlambda_svs, vlambda_u, \n",
      "                                                          use_superdiagonal, train_matrix, test_matrix)\n",
      "    log_likelihoods.append(log_lik)\n",
      "plot(vlambda_us, log_likelihoods)\n",
      "print \"Best regularization parm: \", vlambda_us[argmax(log_likelihoods)]"
     ],
     "language": "python",
     "metadata": {},
     "outputs": []
    },
    {
     "cell_type": "heading",
     "level": 2,
     "metadata": {},
     "source": [
      "To sum up, here I compute the best $\\Sigma$ (using all data)"
     ]
    },
    {
     "cell_type": "code",
     "collapsed": false,
     "input": [
      "numfactor = 4\n",
      "vlambda_svs_s = .003\n",
      "vlambda_us = 0.23\n",
      "use_superdiagonal = 15\n",
      "\n",
      "# initialize\n",
      "singular_vectors = []\n",
      "loadings_vectors = []\n",
      "current_data_matrix = matrix_of_disturbances\n",
      "\n",
      "# extract smoothed SVs\n",
      "for i in range(numfactor):\n",
      "    #print \"extracting %s singular vector\" %i\n",
      "    regularized_singular_vector, loadings, current_data_matrix = \\\n",
      "        extract_singular_vector_smooth(current_data_matrix, vlambda=vlambda_svs*i)\n",
      "    singular_vectors.append(regularized_singular_vector)\n",
      "    loadings_vectors.append(loadings)\n",
      "unexplained_shocks = current_data_matrix\n",
      "\n",
      "# extract diagonal of the unexplained shocks sample cov\n",
      "cov = np.cov(unexplained_shocks)\n",
      "diag = [cov[i,i] for i in range(390)]\n",
      "diag_reg = l1_trend_smoothing(np.array(diag), vlambda=vlambda_u*0, smooth_start_end = False)\n",
      "sigma_u_bar = np.diag(diag_reg)\n",
      "\n",
      "for k in range(1, use_superdiagonal+1):\n",
      "    supradiag = [cov[i,i+k] for i in range(390-k)]\n",
      "    supradiag_reg = l1_trend_smoothing(np.array(supradiag), vlambda=vlambda_u*k, smooth_start_end = False)\n",
      "    for i in range(len(sigma_u_bar)-k):\n",
      "        sigma_u_bar[i, i+k] = supradiag_reg[i]\n",
      "        sigma_u_bar[i+k, i] = supradiag_reg[i]\n",
      "\n",
      "# and add the factors\n",
      "F = np.vstack(singular_vectors)\n",
      "loadings_data_matrix = np.vstack(loadings_vectors)\n",
      "total_sigma = sigma_u_bar + np.dot(np.dot(F.T, np.cov(loadings_data_matrix)), F)\n",
      "\n",
      "# compute test set log likelihood\n",
      "inverse_covariance = np.linalg.inv(total_sigma)\n",
      "log_lik = - log(np.linalg.det(total_sigma)) * test_matrix.shape[1]\n",
      "log_lik -= sum(np.diagonal(np.matrix(test_matrix).T * np.matrix(inverse_covariance) * np.matrix(test_matrix)))\n",
      "print log_lik"
     ],
     "language": "python",
     "metadata": {},
     "outputs": []
    },
    {
     "cell_type": "heading",
     "level": 2,
     "metadata": {},
     "source": [
      "Save this Cross-Validated Beast"
     ]
    },
    {
     "cell_type": "code",
     "collapsed": false,
     "input": [
      "import cPickle as pickle\n",
      "with open(savefolder + \"covariance_smoothed.pickle\", 'w') as f:\n",
      "    pickle.dump(total_sigma, f )"
     ],
     "language": "python",
     "metadata": {},
     "outputs": []
    },
    {
     "cell_type": "code",
     "collapsed": false,
     "input": [
      "figure(figsize=(12,8))\n",
      "pcolor(total_sigma)\n",
      "colorbar()"
     ],
     "language": "python",
     "metadata": {},
     "outputs": []
    },
    {
     "cell_type": "heading",
     "level": 3,
     "metadata": {},
     "source": [
      "Singular Values"
     ]
    },
    {
     "cell_type": "code",
     "collapsed": false,
     "input": [
      "figure(figsize=(19,6))\n",
      "grid(True, 'both')\n",
      "for i, vec in enumerate(singular_vectors[:]):\n",
      "    plot(I_t_rough.index, vec, label='%d'%i)\n",
      "legend()"
     ],
     "language": "python",
     "metadata": {},
     "outputs": []
    },
    {
     "cell_type": "heading",
     "level": 4,
     "metadata": {},
     "source": [
      "Correlation of factor loadings"
     ]
    },
    {
     "cell_type": "code",
     "collapsed": false,
     "input": [
      "figure(figsize=(8,6))\n",
      "pcolor(np.corrcoef(loadings_data_matrix))\n",
      "colorbar()"
     ],
     "language": "python",
     "metadata": {},
     "outputs": []
    },
    {
     "cell_type": "heading",
     "level": 4,
     "metadata": {},
     "source": [
      "Correlation of unexplained shocks (we removed much of the empirical correlation we had originally)"
     ]
    },
    {
     "cell_type": "code",
     "collapsed": false,
     "input": [
      "figure(figsize=(12,8))\n",
      "pcolor(np.corrcoef(unexplained_shocks)[:30, :30])\n",
      "colorbar()"
     ],
     "language": "python",
     "metadata": {},
     "outputs": []
    },
    {
     "cell_type": "heading",
     "level": 4,
     "metadata": {},
     "source": [
      "The unexplained shocks have a sample covariance matrix that is WAAAY more diagonal than the original sample covariance. I proceed by using only diagonal and superdiagonal, but I regularize them."
     ]
    },
    {
     "cell_type": "heading",
     "level": 3,
     "metadata": {},
     "source": [
      "My Sigma_U^bar"
     ]
    },
    {
     "cell_type": "code",
     "collapsed": false,
     "input": [
      "figure(figsize=(12,8))\n",
      "pcolor(sigma_u_bar[:100, :100])\n",
      "colorbar()"
     ],
     "language": "python",
     "metadata": {},
     "outputs": []
    },
    {
     "cell_type": "heading",
     "level": 4,
     "metadata": {},
     "source": [
      "Last Supradiagonal I added (it's basically zero)"
     ]
    },
    {
     "cell_type": "code",
     "collapsed": false,
     "input": [
      "plot(supradiag)\n",
      "plot(supradiag_reg)"
     ],
     "language": "python",
     "metadata": {},
     "outputs": []
    },
    {
     "cell_type": "heading",
     "level": 1,
     "metadata": {},
     "source": [
      "Look at QQ plot (multidimensional)"
     ]
    },
    {
     "cell_type": "code",
     "collapsed": false,
     "input": [
      "matrix_of_disturbances = np.matrix(matrix_of_disturbances)\n",
      "normalized = np.diagonal(matrix_of_disturbances.T * np.linalg.inv(total_sigma) * matrix_of_disturbances)"
     ],
     "language": "python",
     "metadata": {},
     "outputs": []
    },
    {
     "cell_type": "code",
     "collapsed": false,
     "input": [
      "np.mean(normalized)"
     ],
     "language": "python",
     "metadata": {},
     "outputs": []
    },
    {
     "cell_type": "code",
     "collapsed": false,
     "input": [
      "figure(figsize=(19,6))\n",
      "grid(True, 'both')\n",
      "plot(I_t.index, U[:,0])\n",
      "plot(I_t.index, U[:,1])\n",
      "plot(I_t.index, U[:,2])\n",
      "plot(I_t.index, U[:,3])\n",
      "plot(I_t.index, U[:,4])\n",
      "#plot(I_t.index, U[:,5])\n",
      "#plot(I_t.index, U[:,6])"
     ],
     "language": "python",
     "metadata": {},
     "outputs": []
    },
    {
     "cell_type": "heading",
     "level": 3,
     "metadata": {},
     "source": [
      "Let's keep the first 7 SVs"
     ]
    },
    {
     "cell_type": "code",
     "collapsed": false,
     "input": [
      "to_keep = 7\n",
      "S_new = np.concatenate([S[:to_keep], np.zeros(S.shape)[to_keep:]])\n",
      "data_matrix_reduced = np.dot(np.dot(U, np.diag(S_new)),V)"
     ],
     "language": "python",
     "metadata": {},
     "outputs": []
    },
    {
     "cell_type": "code",
     "collapsed": false,
     "input": [
      "covariance_matrix = np.cov(data_matrix_reduced)"
     ],
     "language": "python",
     "metadata": {},
     "outputs": []
    },
    {
     "cell_type": "code",
     "collapsed": false,
     "input": [
      "from pylab import pcolor, show, colorbar, xticks, yticks\n",
      "figure(figsize=(12,8))\n",
      "pcolor(covariance_matrix)\n",
      "colorbar()"
     ],
     "language": "python",
     "metadata": {},
     "outputs": []
    },
    {
     "cell_type": "heading",
     "level": 3,
     "metadata": {},
     "source": [
      "If instead we do PCA of Sigma?"
     ]
    },
    {
     "cell_type": "code",
     "collapsed": false,
     "input": [
      "matrix_of_disturbances.shape"
     ],
     "language": "python",
     "metadata": {},
     "outputs": []
    },
    {
     "cell_type": "code",
     "collapsed": false,
     "input": [
      "sample_sigma = np.cov(matrix_of_disturbances)\n",
      "sample_sigma = np.dot(matrix_of_disturbances, matrix_of_disturbances.T)\n",
      "eigval, eigvec = np.linalg.eigh(sample_sigma)"
     ],
     "language": "python",
     "metadata": {},
     "outputs": []
    },
    {
     "cell_type": "code",
     "collapsed": false,
     "input": [
      "plot(eigvec[:,-2])\n",
      "plot(-U[:,1])"
     ],
     "language": "python",
     "metadata": {},
     "outputs": []
    },
    {
     "cell_type": "heading",
     "level": 3,
     "metadata": {},
     "source": [
      "Save sample $\\mu$ and $\\Sigma$"
     ]
    },
    {
     "cell_type": "code",
     "collapsed": false,
     "input": [
      "import cPickle as pickle\n",
      "I_t_regularized.to_pickle(savefolder + \"sample_mean_regularized.pickle\")\n",
      "Bs.to_pickle(savefolder + \"Bs_per_symbol.pickle\")\n",
      "#with open(savefolder + \"sample_covariance.pickle\", 'w') as f:\n",
      "#    pickle.dump(covariance_matrix, f )"
     ],
     "language": "python",
     "metadata": {},
     "outputs": []
    },
    {
     "cell_type": "heading",
     "level": 4,
     "metadata": {},
     "source": [
      "This doesn't work (too big a problem)"
     ]
    },
    {
     "cell_type": "code",
     "collapsed": false,
     "input": [
      "Y = np.cov(matrix_of_disturbances)\n",
      "n = 390\n",
      "alpha = 400\n",
      "S = cp.semidefinite(n)\n",
      "    \n",
      "# Form the logdet(S) - tr(SY) objective. Note the use of a set\n",
      "# comprehension to form a set of the diagonal elements of S*Y, and the\n",
      "# native sum function, which is compatible with cvxpy, to compute the trace.\n",
      "# TODO: If a cvxpy trace operator becomes available, use it!\n",
      "obj = cp.Maximize(cp.log_det(S) - sum([(S*Y)[i, i] for i in range(n)]))\n",
      "\n",
      "# Set constraint.\n",
      "constraints = [cp.sum_entries(cp.abs(S)) <= alpha]"
     ],
     "language": "python",
     "metadata": {},
     "outputs": []
    },
    {
     "cell_type": "code",
     "collapsed": false,
     "input": [
      "# Form and solve optimization problem\n",
      "prob = cp.Problem(obj, constraints)\n",
      "prob.solve(verbose=True)\n",
      "if prob.status != cp.OPTIMAL:\n",
      "    raise Exception('CVXPY Error')"
     ],
     "language": "python",
     "metadata": {},
     "outputs": []
    },
    {
     "cell_type": "code",
     "collapsed": false,
     "input": [],
     "language": "python",
     "metadata": {},
     "outputs": []
    }
   ],
   "metadata": {}
  }
 ]
}